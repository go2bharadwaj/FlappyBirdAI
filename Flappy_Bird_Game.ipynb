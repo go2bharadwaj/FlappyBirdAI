{
 "cells": [
  {
   "cell_type": "markdown",
   "metadata": {},
   "source": [
    "# Flappy Bird"
   ]
  },
  {
   "cell_type": "markdown",
   "metadata": {
    "heading_collapsed": true
   },
   "source": [
    "## Installations"
   ]
  },
  {
   "cell_type": "code",
   "execution_count": null,
   "metadata": {
    "ExecuteTime": {
     "end_time": "2020-09-02T00:01:56.768852Z",
     "start_time": "2020-09-02T00:01:41.774699Z"
    },
    "hidden": true
   },
   "outputs": [],
   "source": [
    "# Using py game -> visuals\n",
    "!pip install pygame"
   ]
  },
  {
   "cell_type": "code",
   "execution_count": null,
   "metadata": {
    "ExecuteTime": {
     "end_time": "2020-09-02T00:02:19.988293Z",
     "start_time": "2020-09-02T00:02:12.331182Z"
    },
    "hidden": true
   },
   "outputs": [],
   "source": [
    "!pip install neat-python"
   ]
  },
  {
   "cell_type": "markdown",
   "metadata": {
    "heading_collapsed": true
   },
   "source": [
    "## Code"
   ]
  },
  {
   "cell_type": "markdown",
   "metadata": {
    "hidden": true
   },
   "source": [
    "<B><U> 3 classes </U> </B> \n",
    "   * Pipe\n",
    "   * Bird\n",
    "   * Ground"
   ]
  },
  {
   "cell_type": "code",
   "execution_count": 13,
   "metadata": {
    "ExecuteTime": {
     "end_time": "2020-09-03T06:32:45.446910Z",
     "start_time": "2020-09-03T06:32:45.439964Z"
    },
    "hidden": true
   },
   "outputs": [],
   "source": [
    "# imports\n",
    "\n",
    "import pygame\n",
    "import neat\n",
    "import time \n",
    "import os\n",
    "import random #for randomly placing height of tubes\n",
    "pygame.font.init()"
   ]
  },
  {
   "cell_type": "code",
   "execution_count": 14,
   "metadata": {
    "ExecuteTime": {
     "end_time": "2020-09-03T06:32:45.580247Z",
     "start_time": "2020-09-03T06:32:45.574233Z"
    },
    "hidden": true
   },
   "outputs": [],
   "source": [
    "# All number or constant names of variables in capital\n",
    "\n",
    "WIN_WIDTH = 500\n",
    "WIN_HEIGHT = 800"
   ]
  },
  {
   "cell_type": "code",
   "execution_count": 15,
   "metadata": {
    "ExecuteTime": {
     "end_time": "2020-09-03T06:32:45.739790Z",
     "start_time": "2020-09-03T06:32:45.712864Z"
    },
    "hidden": true
   },
   "outputs": [],
   "source": [
    "#loading images\n",
    "#scale2x -> makes image 2 times bigger\n",
    "#load -> loads an image\n",
    "\n",
    "GEN = 0\n",
    "\n",
    "BIRD_IMGS = [pygame.transform.scale2x(pygame.image.load(os.path.join(\"imgs\",\"bird1.png\"))), pygame.transform.scale2x(pygame.image.load(os.path.join(\"imgs\",\"bird2.png\"))), pygame.transform.scale2x(pygame.image.load(os.path.join(\"imgs\",\"bird3.png\")))]\n",
    "PIPE_IMG = pygame.transform.scale2x(pygame.image.load(os.path.join(\"imgs\",\"pipe.png\")))\n",
    "BASE_IMG = pygame.transform.scale2x(pygame.image.load(os.path.join(\"imgs\",\"base.png\")))\n",
    "BG_IMG = pygame.transform.scale2x(pygame.image.load(os.path.join(\"imgs\",\"bg.png\")))\n"
   ]
  },
  {
   "cell_type": "code",
   "execution_count": 16,
   "metadata": {
    "ExecuteTime": {
     "end_time": "2020-09-03T06:32:45.836859Z",
     "start_time": "2020-09-03T06:32:45.828880Z"
    },
    "hidden": true
   },
   "outputs": [],
   "source": [
    "STAT_FONT = pygame.font.SysFont(\"comicsans\", 50)"
   ]
  },
  {
   "cell_type": "code",
   "execution_count": 17,
   "metadata": {
    "ExecuteTime": {
     "end_time": "2020-09-03T06:32:45.974667Z",
     "start_time": "2020-09-03T06:32:45.951182Z"
    },
    "hidden": true
   },
   "outputs": [],
   "source": [
    "# Bird Class\n",
    "# Constants that we will use later\n",
    "\n",
    "class Bird:\n",
    "    IMGS = BIRD_IMGS\n",
    "    MAX_ROTATION = 25 # How much the bird is going to tilt\n",
    "    ROT_VEL = 20 # How much we are going to rotate each time we move the bird\n",
    "    ANIMATION_TIME = 5 # How long will we show each bird animation\n",
    "\n",
    "    def __init__(self,x,y):\n",
    "        self.x = x\n",
    "        self.y = y\n",
    "        self.tilt = 0 # How much image is tilted\n",
    "        self.tick_count = 0 # Physics of our bird\n",
    "        self.vel = 0 # velocity because it isnt moving\n",
    "        self.height = self.y #shouldnt reach max height\n",
    "        self.img_count = 0  \n",
    "        self.img = self.IMGS[0] # bird1.png\n",
    "    \n",
    "    def jump(self):\n",
    "        self.vel = -10.5\n",
    "        self.tick_count = 0 # When we last jumped\n",
    "        self.height = self.y\n",
    "        \n",
    "    def move(self):\n",
    "        self.tick_count += 1\n",
    "        \n",
    "        #for arc formation\n",
    "        d = self.vel * self.tick_count + 1.5 * self.tick_count**2 \n",
    "        \n",
    "        # limit for d \n",
    "        if d >= 16:\n",
    "            d = 16\n",
    "            \n",
    "        if d < 0:\n",
    "            d -= 2\n",
    "            \n",
    "        self.y = self.y + d\n",
    "        \n",
    "        if d < 0 or self.y < self.height + 50:\n",
    "            if self.tilt < self.MAX_ROTATION:\n",
    "                self.tilt = self.MAX_ROTATION\n",
    "        else: \n",
    "            if self.tilt > -90:\n",
    "                self.tilt -= self.ROT_VEL\n",
    "        \n",
    "    def draw(self, win):\n",
    "        self.img_count += 1\n",
    "        \n",
    "        if self.img_count < self.ANIMATION_TIME:\n",
    "            self.img = self.IMGS[0]\n",
    "        elif self.img_count <self.ANIMATION_TIME*2:\n",
    "            self.img = self.IMGS[1]\n",
    "        elif self.img_count <self.ANIMATION_TIME*3:\n",
    "            self.img = self.IMGS[2]\n",
    "        elif self.img_count <self.ANIMATION_TIME*4:\n",
    "            self.img = self.IMGS[1]\n",
    "        elif self.img_count == self.ANIMATION_TIME*4 + 1:\n",
    "            self.img = self.IMGS[0]\n",
    "            self.img_count = 0 \n",
    "            \n",
    "        if self.tilt <= -80:\n",
    "            self.img = self.IMGS[1]\n",
    "            self.img_count = self.ANIMATION_TIME*2\n",
    "        \n",
    "        rotated_image = pygame.transform.rotate(self.img, self.tilt)\n",
    "        new_rect = rotated_image.get_rect(center = self.img.get_rect(topleft = (self.x, self.y)).center)\n",
    "        win.blit(rotated_image, new_rect.topleft) # blit means draw\n",
    "        \n",
    "    def get_mask(self):\n",
    "        return pygame.mask.from_surface(self.img)\n",
    "        "
   ]
  },
  {
   "cell_type": "code",
   "execution_count": 18,
   "metadata": {
    "ExecuteTime": {
     "end_time": "2020-09-03T06:32:46.102545Z",
     "start_time": "2020-09-03T06:32:46.086087Z"
    },
    "hidden": true
   },
   "outputs": [],
   "source": [
    "class Pipe():\n",
    "    GAP = 200\n",
    "    VEL = 5\n",
    "    \n",
    "    def __init__(self,x):\n",
    "        self.x = x\n",
    "        self.height = 0\n",
    "        self.gap = 100\n",
    "        \n",
    "        self.top = 0\n",
    "        self.bottom = 0\n",
    "        self.PIPE_TOP = pygame.transform.flip(PIPE_IMG, False, True)\n",
    "        self.PIPE_BOTTOM = PIPE_IMG\n",
    "        \n",
    "        self.passed = False\n",
    "        self.set_height()\n",
    "        \n",
    "    def set_height(self):\n",
    "        self.height = random.randrange(50,450)\n",
    "        self.top = self.height - self.PIPE_TOP.get_height()\n",
    "        self.bottom = self.height + self.GAP\n",
    "        \n",
    "    def move(self):\n",
    "        self.x -= self.VEL\n",
    "    \n",
    "    def draw(self, win):\n",
    "        win.blit(self.PIPE_TOP, (self.x, self.top))\n",
    "        win.blit(self.PIPE_BOTTOM, (self.x, self.bottom))\n",
    "    \n",
    "    def collide(self, bird):\n",
    "        bird_mask = bird.get_mask()\n",
    "        top_mask = pygame.mask.from_surface(self.PIPE_TOP)\n",
    "        bottom_mask = pygame.mask.from_surface(self.PIPE_BOTTOM)\n",
    "        \n",
    "        top_offset = (self.x - bird.x, self.top - round(bird.y))\n",
    "        bottom_offset = (self.x - bird.x, self.bottom - round(bird.y))\n",
    "        \n",
    "        b_point = bird_mask.overlap(bottom_mask, bottom_offset)\n",
    "        t_point = bird_mask.overlap(bottom_mask, top_offset)\n",
    "        \n",
    "        if t_point or b_point:\n",
    "            return True\n",
    "        \n",
    "        return False"
   ]
  },
  {
   "cell_type": "code",
   "execution_count": 19,
   "metadata": {
    "ExecuteTime": {
     "end_time": "2020-09-03T06:32:46.234231Z",
     "start_time": "2020-09-03T06:32:46.222292Z"
    },
    "hidden": true
   },
   "outputs": [],
   "source": [
    "class Base():\n",
    "    VEL = 5 \n",
    "    WIDTH = BASE_IMG.get_width()\n",
    "    IMG = BASE_IMG\n",
    "    \n",
    "    def __init__(self,y):\n",
    "        self.y = y\n",
    "        self.x1 = 0\n",
    "        self.x2 = self.WIDTH\n",
    "    \n",
    "    def move(self):\n",
    "        self.x1 -= self.VEL\n",
    "        self.x2 -= self.VEL\n",
    "        \n",
    "        if self.x1 + self.WIDTH < 0:\n",
    "            self.x1 = self.x2 + self.WIDTH\n",
    "        \n",
    "        if self.x2 + self.WIDTH < 0:\n",
    "            self.x2 = self.x1 + self.WIDTH\n",
    "    \n",
    "    def draw(self, win):\n",
    "        win.blit(self.IMG, (self.x1, self.y))\n",
    "        win.blit(self.IMG, (self.x2, self.y))"
   ]
  },
  {
   "cell_type": "code",
   "execution_count": 20,
   "metadata": {
    "ExecuteTime": {
     "end_time": "2020-09-03T06:32:46.364693Z",
     "start_time": "2020-09-03T06:32:46.353741Z"
    },
    "hidden": true
   },
   "outputs": [],
   "source": [
    "def draw_window(win, birds, pipes, base, score, gen):\n",
    "    win.blit(BG_IMG, (0,0))\n",
    "    \n",
    "    for pipe in pipes:\n",
    "        pipe.draw(win)\n",
    "    \n",
    "    text = STAT_FONT.render(\"Score: \" + str(score), 1,(255,255,255))\n",
    "    win.blit(text, (WIN_WIDTH - 10 - text.get_width(), 10))\n",
    "    \n",
    "    text = STAT_FONT.render(\"Gen: \" + str(gen), 1,(255,255,255))\n",
    "    win.blit(text, (10, 10))\n",
    "    \n",
    "    base.draw(win)\n",
    "    for bird in birds:\n",
    "        bird.draw(win)\n",
    "        \n",
    "    pygame.display.update()"
   ]
  },
  {
   "cell_type": "code",
   "execution_count": 21,
   "metadata": {
    "ExecuteTime": {
     "end_time": "2020-09-03T06:32:46.512900Z",
     "start_time": "2020-09-03T06:32:46.478993Z"
    },
    "hidden": true
   },
   "outputs": [],
   "source": [
    "def main(genomes, config):\n",
    "    global GEN\n",
    "    GEN += 1\n",
    "    nets = []\n",
    "    ge = []\n",
    "    birds = []\n",
    "    \n",
    "    for _, g in genomes:\n",
    "        net = neat.nn.FeedForwardNetwork.create(g, config)\n",
    "        nets.append(net)\n",
    "        birds.append(Bird(230, 350))\n",
    "        g.fitness = 0\n",
    "        ge.append(g)\n",
    "    \n",
    "    base = Base(730)\n",
    "    pipes = [Pipe(600)]\n",
    "    win = pygame.display.set_mode((WIN_WIDTH,WIN_HEIGHT))\n",
    "    clock = pygame.time.Clock()\n",
    "    \n",
    "    score = 0\n",
    "    \n",
    "    run = True\n",
    "    while run:\n",
    "        clock.tick(30)\n",
    "        for event in pygame.event.get():\n",
    "            if event.type == pygame.QUIT:\n",
    "                run = False\n",
    "                pygame.quit()\n",
    "                quit()\n",
    "        \n",
    "        pipe_ind = 0\n",
    "        if len(birds) > 0:\n",
    "            if len(pipes) > 1 and birds[0].x > pipes[0].x + pipes[0].PIPE_TOP.get_width():\n",
    "                pipe_ind = 1\n",
    "        else:\n",
    "            run = False\n",
    "            break\n",
    "        \n",
    "        for x,bird in enumerate(birds):\n",
    "            bird.move()\n",
    "            ge[x].fitness += 0.1\n",
    "            \n",
    "            output = nets[x].activate((bird.y, abs(bird.y - pipes[pipe_ind].height), abs(bird.y - pipes[pipe_ind].bottom)))\n",
    "            \n",
    "            #if you have more output neurons then you may have to check and run through  all of them \n",
    "            if output[0] > 0.5:\n",
    "                bird.jump()\n",
    "        \n",
    "        #bird.move()\n",
    "        add_pipe = False\n",
    "        rem = []\n",
    "        for pipe in pipes:\n",
    "            for x, bird in enumerate(birds):\n",
    "                if pipe.collide(bird):\n",
    "                    ge[x].fitness -= 1\n",
    "                    birds.pop(x)\n",
    "                    nets.pop(x)\n",
    "                    ge.pop(x)\n",
    "             \n",
    "                if not pipe.passed and pipe.x < bird.x:\n",
    "                    pipe.passed = True\n",
    "                    add_pipe = True\n",
    "                \n",
    "            if pipe.x + pipe.PIPE_TOP.get_width() < 0:\n",
    "                rem.append(pipe)\n",
    "                \n",
    "            pipe.move()\n",
    "           \n",
    "        if add_pipe:\n",
    "            score += 1\n",
    "            for g in ge:\n",
    "                g.fitness += 5\n",
    "            pipes.append(Pipe(700))\n",
    "            \n",
    "        for r in rem:\n",
    "            pipes.remove(r)\n",
    "        \n",
    "        for x, bird in enumerate(birds):\n",
    "            if bird.y + bird.img.get_height() >= 730 or bird.y < 0:\n",
    "                birds.pop(x)\n",
    "                nets.pop(x)\n",
    "                ge.pop(x)\n",
    "                \n",
    "        #if score > 50:\n",
    "        #    break\n",
    "        \n",
    "        base.move()\n",
    "        draw_window(win, birds, pipes, base, score, GEN)        "
   ]
  },
  {
   "cell_type": "markdown",
   "metadata": {
    "heading_collapsed": true
   },
   "source": [
    "## AI -> Using NEAT algorithm"
   ]
  },
  {
   "cell_type": "code",
   "execution_count": 22,
   "metadata": {
    "ExecuteTime": {
     "end_time": "2020-09-03T06:32:46.748966Z",
     "start_time": "2020-09-03T06:32:46.744455Z"
    },
    "hidden": true
   },
   "outputs": [],
   "source": [
    "# Very important to think about what the input and out put is going to be for the algorithm\n",
    "\n",
    "# Inputs -> Bird Y, Top Pipe, Bottom Pipe\n",
    "# Outputs -> Jump / Dont Jump"
   ]
  },
  {
   "cell_type": "code",
   "execution_count": 23,
   "metadata": {
    "ExecuteTime": {
     "end_time": "2020-09-03T06:32:46.885331Z",
     "start_time": "2020-09-03T06:32:46.880343Z"
    },
    "hidden": true
   },
   "outputs": [],
   "source": [
    "# Activation Function -> TanH\n",
    "# Population size -> 100 birds per generation #used 20\n",
    "    #Gen 0 -> 100 birds \n",
    "    # (take best out of them) \\|/\n",
    "    #Gen 1 -> mutate best from Gen 0 to make 100 more birds\n",
    "    # (take best out of them) \\|/\n",
    "    #.\n",
    "    #.\n",
    "    #.\n",
    "# Fitness Function -> distance in x axis\n",
    "# Max Generation -> 30"
   ]
  },
  {
   "cell_type": "code",
   "execution_count": 24,
   "metadata": {
    "ExecuteTime": {
     "end_time": "2020-09-03T06:33:19.181504Z",
     "start_time": "2020-09-03T06:32:47.007289Z"
    },
    "hidden": true
   },
   "outputs": [
    {
     "name": "stdout",
     "output_type": "stream",
     "text": [
      "\n",
      " ****** Running generation 0 ****** \n",
      "\n",
      "Population's average fitness: 3.79500 stdev: 1.41791\n",
      "Best fitness: 6.30000 - size: (1, 3) - species 1 - id 11\n",
      "Average adjusted fitness: 0.374\n",
      "Mean genetic distance 1.308, standard deviation 0.474\n",
      "Population of 20 members in 1 species:\n",
      "   ID   age  size  fitness  adj fit  stag\n",
      "  ====  ===  ====  =======  =======  ====\n",
      "     1    0    20      6.3    0.374     0\n",
      "Total extinctions: 0\n",
      "Generation time: 2.752 sec\n",
      "\n",
      " ****** Running generation 1 ****** \n",
      "\n",
      "Population's average fitness: 4.93500 stdev: 3.63363\n",
      "Best fitness: 17.20000 - size: (1, 3) - species 1 - id 29\n",
      "Average adjusted fitness: 0.177\n",
      "Mean genetic distance 1.107, standard deviation 0.435\n",
      "Population of 20 members in 1 species:\n",
      "   ID   age  size  fitness  adj fit  stag\n",
      "  ====  ===  ====  =======  =======  ====\n",
      "     1    1    20     17.2    0.177     0\n",
      "Total extinctions: 0\n",
      "Generation time: 4.374 sec (3.563 average)\n",
      "\n",
      " ****** Running generation 2 ****** \n",
      "\n"
     ]
    },
    {
     "ename": "error",
     "evalue": "display Surface quit",
     "output_type": "error",
     "traceback": [
      "\u001b[1;31m---------------------------------------------------------------------------\u001b[0m",
      "\u001b[1;31merror\u001b[0m                                     Traceback (most recent call last)",
      "\u001b[1;32m<ipython-input-24-b2efaf4f5051>\u001b[0m in \u001b[0;36m<module>\u001b[1;34m\u001b[0m\n\u001b[0;32m     17\u001b[0m     \u001b[0mlocal_dir\u001b[0m \u001b[1;33m=\u001b[0m \u001b[0mos\u001b[0m\u001b[1;33m.\u001b[0m\u001b[0mpath\u001b[0m\u001b[1;33m.\u001b[0m\u001b[0mdirname\u001b[0m\u001b[1;33m(\u001b[0m\u001b[1;34m\"__file__\"\u001b[0m\u001b[1;33m)\u001b[0m\u001b[1;33m\u001b[0m\u001b[1;33m\u001b[0m\u001b[0m\n\u001b[0;32m     18\u001b[0m     \u001b[0mconfig_path\u001b[0m \u001b[1;33m=\u001b[0m \u001b[0mos\u001b[0m\u001b[1;33m.\u001b[0m\u001b[0mpath\u001b[0m\u001b[1;33m.\u001b[0m\u001b[0mjoin\u001b[0m\u001b[1;33m(\u001b[0m\u001b[0mlocal_dir\u001b[0m\u001b[1;33m,\u001b[0m \u001b[1;34m\"ConfiFile.txt\"\u001b[0m\u001b[1;33m)\u001b[0m\u001b[1;33m\u001b[0m\u001b[1;33m\u001b[0m\u001b[0m\n\u001b[1;32m---> 19\u001b[1;33m     \u001b[0mrun\u001b[0m\u001b[1;33m(\u001b[0m\u001b[0mconfig_path\u001b[0m\u001b[1;33m)\u001b[0m\u001b[1;33m\u001b[0m\u001b[1;33m\u001b[0m\u001b[0m\n\u001b[0m",
      "\u001b[1;32m<ipython-input-24-b2efaf4f5051>\u001b[0m in \u001b[0;36mrun\u001b[1;34m(config_path)\u001b[0m\n\u001b[0;32m     11\u001b[0m     \u001b[0mp\u001b[0m\u001b[1;33m.\u001b[0m\u001b[0madd_reporter\u001b[0m\u001b[1;33m(\u001b[0m\u001b[0mstats\u001b[0m\u001b[1;33m)\u001b[0m\u001b[1;33m\u001b[0m\u001b[1;33m\u001b[0m\u001b[0m\n\u001b[0;32m     12\u001b[0m \u001b[1;33m\u001b[0m\u001b[0m\n\u001b[1;32m---> 13\u001b[1;33m     \u001b[0mwinner\u001b[0m \u001b[1;33m=\u001b[0m \u001b[0mp\u001b[0m\u001b[1;33m.\u001b[0m\u001b[0mrun\u001b[0m\u001b[1;33m(\u001b[0m\u001b[0mmain\u001b[0m\u001b[1;33m,\u001b[0m\u001b[1;36m50\u001b[0m\u001b[1;33m)\u001b[0m\u001b[1;33m\u001b[0m\u001b[1;33m\u001b[0m\u001b[0m\n\u001b[0m\u001b[0;32m     14\u001b[0m \u001b[1;33m\u001b[0m\u001b[0m\n\u001b[0;32m     15\u001b[0m \u001b[1;33m\u001b[0m\u001b[0m\n",
      "\u001b[1;32m~\\Anaconda3\\lib\\site-packages\\neat\\population.py\u001b[0m in \u001b[0;36mrun\u001b[1;34m(self, fitness_function, n)\u001b[0m\n\u001b[0;32m     87\u001b[0m \u001b[1;33m\u001b[0m\u001b[0m\n\u001b[0;32m     88\u001b[0m             \u001b[1;31m# Evaluate all genomes using the user-provided function.\u001b[0m\u001b[1;33m\u001b[0m\u001b[1;33m\u001b[0m\u001b[1;33m\u001b[0m\u001b[0m\n\u001b[1;32m---> 89\u001b[1;33m             \u001b[0mfitness_function\u001b[0m\u001b[1;33m(\u001b[0m\u001b[0mlist\u001b[0m\u001b[1;33m(\u001b[0m\u001b[0miteritems\u001b[0m\u001b[1;33m(\u001b[0m\u001b[0mself\u001b[0m\u001b[1;33m.\u001b[0m\u001b[0mpopulation\u001b[0m\u001b[1;33m)\u001b[0m\u001b[1;33m)\u001b[0m\u001b[1;33m,\u001b[0m \u001b[0mself\u001b[0m\u001b[1;33m.\u001b[0m\u001b[0mconfig\u001b[0m\u001b[1;33m)\u001b[0m\u001b[1;33m\u001b[0m\u001b[1;33m\u001b[0m\u001b[0m\n\u001b[0m\u001b[0;32m     90\u001b[0m \u001b[1;33m\u001b[0m\u001b[0m\n\u001b[0;32m     91\u001b[0m             \u001b[1;31m# Gather and report statistics.\u001b[0m\u001b[1;33m\u001b[0m\u001b[1;33m\u001b[0m\u001b[1;33m\u001b[0m\u001b[0m\n",
      "\u001b[1;32m<ipython-input-21-cbfb5c6bc2c4>\u001b[0m in \u001b[0;36mmain\u001b[1;34m(genomes, config)\u001b[0m\n\u001b[0;32m     83\u001b[0m \u001b[1;33m\u001b[0m\u001b[0m\n\u001b[0;32m     84\u001b[0m         \u001b[0mbase\u001b[0m\u001b[1;33m.\u001b[0m\u001b[0mmove\u001b[0m\u001b[1;33m(\u001b[0m\u001b[1;33m)\u001b[0m\u001b[1;33m\u001b[0m\u001b[1;33m\u001b[0m\u001b[0m\n\u001b[1;32m---> 85\u001b[1;33m         \u001b[0mdraw_window\u001b[0m\u001b[1;33m(\u001b[0m\u001b[0mwin\u001b[0m\u001b[1;33m,\u001b[0m \u001b[0mbirds\u001b[0m\u001b[1;33m,\u001b[0m \u001b[0mpipes\u001b[0m\u001b[1;33m,\u001b[0m \u001b[0mbase\u001b[0m\u001b[1;33m,\u001b[0m \u001b[0mscore\u001b[0m\u001b[1;33m,\u001b[0m \u001b[0mGEN\u001b[0m\u001b[1;33m)\u001b[0m\u001b[1;33m\u001b[0m\u001b[1;33m\u001b[0m\u001b[0m\n\u001b[0m",
      "\u001b[1;32m<ipython-input-20-f2b8505f5dd1>\u001b[0m in \u001b[0;36mdraw_window\u001b[1;34m(win, birds, pipes, base, score, gen)\u001b[0m\n\u001b[0;32m      1\u001b[0m \u001b[1;32mdef\u001b[0m \u001b[0mdraw_window\u001b[0m\u001b[1;33m(\u001b[0m\u001b[0mwin\u001b[0m\u001b[1;33m,\u001b[0m \u001b[0mbirds\u001b[0m\u001b[1;33m,\u001b[0m \u001b[0mpipes\u001b[0m\u001b[1;33m,\u001b[0m \u001b[0mbase\u001b[0m\u001b[1;33m,\u001b[0m \u001b[0mscore\u001b[0m\u001b[1;33m,\u001b[0m \u001b[0mgen\u001b[0m\u001b[1;33m)\u001b[0m\u001b[1;33m:\u001b[0m\u001b[1;33m\u001b[0m\u001b[1;33m\u001b[0m\u001b[0m\n\u001b[1;32m----> 2\u001b[1;33m     \u001b[0mwin\u001b[0m\u001b[1;33m.\u001b[0m\u001b[0mblit\u001b[0m\u001b[1;33m(\u001b[0m\u001b[0mBG_IMG\u001b[0m\u001b[1;33m,\u001b[0m \u001b[1;33m(\u001b[0m\u001b[1;36m0\u001b[0m\u001b[1;33m,\u001b[0m\u001b[1;36m0\u001b[0m\u001b[1;33m)\u001b[0m\u001b[1;33m)\u001b[0m\u001b[1;33m\u001b[0m\u001b[1;33m\u001b[0m\u001b[0m\n\u001b[0m\u001b[0;32m      3\u001b[0m \u001b[1;33m\u001b[0m\u001b[0m\n\u001b[0;32m      4\u001b[0m     \u001b[1;32mfor\u001b[0m \u001b[0mpipe\u001b[0m \u001b[1;32min\u001b[0m \u001b[0mpipes\u001b[0m\u001b[1;33m:\u001b[0m\u001b[1;33m\u001b[0m\u001b[1;33m\u001b[0m\u001b[0m\n\u001b[0;32m      5\u001b[0m         \u001b[0mpipe\u001b[0m\u001b[1;33m.\u001b[0m\u001b[0mdraw\u001b[0m\u001b[1;33m(\u001b[0m\u001b[0mwin\u001b[0m\u001b[1;33m)\u001b[0m\u001b[1;33m\u001b[0m\u001b[1;33m\u001b[0m\u001b[0m\n",
      "\u001b[1;31merror\u001b[0m: display Surface quit"
     ]
    }
   ],
   "source": [
    "def run(config_path):\n",
    "    \n",
    "    config = neat.config.Config(neat.DefaultGenome,neat.DefaultReproduction, \n",
    "                                neat.DefaultSpeciesSet, neat.DefaultStagnation, \n",
    "                                config_path)\n",
    "\n",
    "    p = neat.Population(config)\n",
    "    \n",
    "    p.add_reporter(neat.StdOutReporter(True))\n",
    "    stats = neat.StatisticsReporter()\n",
    "    p.add_reporter(stats)\n",
    "    \n",
    "    winner = p.run(main,50)\n",
    "    \n",
    "\n",
    "if __name__ == \"__main__\":\n",
    "    local_dir = os.path.dirname(\"__file__\")\n",
    "    config_path = os.path.join(local_dir, \"ConfiFile.txt\")\n",
    "    run(config_path)"
   ]
  },
  {
   "cell_type": "code",
   "execution_count": null,
   "metadata": {
    "hidden": true
   },
   "outputs": [],
   "source": []
  },
  {
   "cell_type": "code",
   "execution_count": null,
   "metadata": {
    "hidden": true
   },
   "outputs": [],
   "source": []
  },
  {
   "cell_type": "code",
   "execution_count": null,
   "metadata": {
    "hidden": true
   },
   "outputs": [],
   "source": []
  },
  {
   "cell_type": "code",
   "execution_count": null,
   "metadata": {
    "hidden": true
   },
   "outputs": [],
   "source": []
  }
 ],
 "metadata": {
  "hide_input": false,
  "kernelspec": {
   "display_name": "Python 3",
   "language": "python",
   "name": "python3"
  },
  "language_info": {
   "codemirror_mode": {
    "name": "ipython",
    "version": 3
   },
   "file_extension": ".py",
   "mimetype": "text/x-python",
   "name": "python",
   "nbconvert_exporter": "python",
   "pygments_lexer": "ipython3",
   "version": "3.7.3"
  }
 },
 "nbformat": 4,
 "nbformat_minor": 2
}
